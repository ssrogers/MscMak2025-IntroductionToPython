{
 "cells": [
  {
   "cell_type": "code",
   "execution_count": 2,
   "id": "f62ffbd6",
   "metadata": {},
   "outputs": [
    {
     "name": "stderr",
     "output_type": "stream",
     "text": [
      "/root/MscMak2025-IntroductionToPython-1/.venv/lib/python3.12/site-packages/numpy/_core/getlimits.py:552: UserWarning: Signature b'\\x00\\xd0\\xcc\\xcc\\xcc\\xcc\\xcc\\xcc\\xfb\\xbf\\x00\\x00\\x00\\x00\\x00\\x00' for <class 'numpy.longdouble'> does not match any known type: falling back to type probe function.\n",
      "This warnings indicates broken support for the dtype!\n",
      "  machar = _get_machar(dtype)\n"
     ]
    },
    {
     "name": "stdout",
     "output_type": "stream",
     "text": [
      "Numpy version: 2.3.3\n",
      "Pandas version: 2.3.3\n"
     ]
    }
   ],
   "source": [
    "\n",
    "import numpy as np\n",
    "import pandas as pd\n",
    "print(f\"Numpy version: {np.__version__}\")\n",
    "print(f\"Pandas version: {pd.__version__}\")"
   ]
  },
  {
   "cell_type": "code",
   "execution_count": 3,
   "id": "914ac80d",
   "metadata": {},
   "outputs": [
    {
     "data": {
      "text/plain": [
       "0    0.01\n",
       "1    0.25\n",
       "2    1.00\n",
       "3    2.00\n",
       "dtype: float64"
      ]
     },
     "execution_count": 3,
     "metadata": {},
     "output_type": "execute_result"
    }
   ],
   "source": [
    "data = pd.Series([0.01, 0.25, 1, 2])\n",
    "data"
   ]
  },
  {
   "cell_type": "code",
   "execution_count": null,
   "id": "bd8c5501",
   "metadata": {},
   "outputs": [],
   "source": [
    "data1 = pd.Series([0,1,2,3,4,5], \n",
    "                  index=['a','b','c','d','e','f'])\n",
    "data1"
   ]
  },
  {
   "cell_type": "code",
   "execution_count": null,
   "id": "4f099096",
   "metadata": {},
   "outputs": [],
   "source": [
    "a ={1,2,3,4,5}\n",
    "b ={2,3,4,6,7,8}\n",
    "a & b "
   ]
  },
  {
   "cell_type": "code",
   "execution_count": 9,
   "id": "c635e073",
   "metadata": {},
   "outputs": [
    {
     "name": "stdout",
     "output_type": "stream",
     "text": [
      "[10 20 30 40 50]\n",
      "[1. 2. 3. 4.]\n",
      "[10.  20.  30.  44.4]\n"
     ]
    }
   ],
   "source": [
    "disk1 =np.array([10,20,30,40,50])\n",
    "type(disk1)\n",
    "print(disk1)\n",
    "disk2 = np.array([1,2,3,4], dtype='float32')\n",
    "print(disk2)\n",
    "disk3 = np.array([10,20,30,44.4])\n",
    "print(disk3)\n"
   ]
  },
  {
   "cell_type": "code",
   "execution_count": 17,
   "id": "211d0038",
   "metadata": {},
   "outputs": [
    {
     "name": "stdout",
     "output_type": "stream",
     "text": [
      "[0 0 0 0 0 0 0 0 0 0]\n",
      "[[1. 1. 1. 1. 1.]\n",
      " [1. 1. 1. 1. 1.]\n",
      " [1. 1. 1. 1. 1.]]\n",
      "[[3.14 3.14 3.14 3.14 3.14]\n",
      " [3.14 3.14 3.14 3.14 3.14]\n",
      " [3.14 3.14 3.14 3.14 3.14]]\n",
      "[10 11 12 13 14 15 16 17 18 19] [3 5 7 9] [ 0.   2.5  5.   7.5 10. ]\n"
     ]
    }
   ],
   "source": [
    "x = np.zeros(10, dtype=\"int\")\n",
    "b = np.ones((3,5), dtype ='float')\n",
    "c= np.full((3,5), 3.14)\n",
    "print(x )\n",
    "print(b)\n",
    "print(c)\n",
    "d= np.arange(10,20)\n",
    "e = np.arange(3,10,2)\n",
    "f = np.linspace(0,10,5)\n",
    "print(d , e, f)\n"
   ]
  },
  {
   "cell_type": "code",
   "execution_count": 34,
   "id": "1dc5562a",
   "metadata": {},
   "outputs": [
    {
     "data": {
      "text/plain": [
       "array([3.5462232e-316, 0.0000000e+000, 1.5810101e-322])"
      ]
     },
     "execution_count": 34,
     "metadata": {},
     "output_type": "execute_result"
    }
   ],
   "source": [
    "np.random.random(None)\n",
    "np.random.random((3,3))\n",
    "np.random.random(5)\n",
    "np.random.normal(0, 1,(3,3))\n",
    "np.random.randint(0,10,(3,3))\n",
    "np.eye(5)\n",
    "np.eye(2,4)\n",
    "np.empty(3)"
   ]
  }
 ],
 "metadata": {
  "kernelspec": {
   "display_name": ".venv",
   "language": "python",
   "name": "python3"
  },
  "language_info": {
   "codemirror_mode": {
    "name": "ipython",
    "version": 3
   },
   "file_extension": ".py",
   "mimetype": "text/x-python",
   "name": "python",
   "nbconvert_exporter": "python",
   "pygments_lexer": "ipython3",
   "version": "3.12.3"
  }
 },
 "nbformat": 4,
 "nbformat_minor": 5
}
