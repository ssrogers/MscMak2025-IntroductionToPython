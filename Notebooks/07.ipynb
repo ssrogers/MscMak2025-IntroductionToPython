{
 "cells": [
  {
   "cell_type": "markdown",
   "metadata": {},
   "source": [
    "<small><small><i>\n",
    "Introduction to Python for Bioinformatics - available at https://github.com/GunzIvan28/MScMak2025-IntroductionToPython.\n",
    "</i></small></small>\n",
    "\n",
    "## Files, Scripting and Modules\n",
    "\n",
    "So far, we have been writing all our Python Code in Jupyter notebooks. However, if you want to use the code we have written as part of a pipeline, you need to write scripts. Also, most of the time the data you need to analyse is in a file, which you need to read to Python and process. \n",
    "\n",
    "\n",
    "### Reading Files\n",
    "\n",
    "So far we have been working from memory. In Bioinformatics, you will need to read some file or even write some output to file. We use the `open` function. "
   ]
  },
  {
   "cell_type": "code",
   "execution_count": null,
   "metadata": {},
   "outputs": [],
   "source": [
    "myfile = open(\"../Data/test.txt\", \"w\")        #Opens a file that is new or exists; r=reading, w=writing, \n",
    "myfile.write(\"My first file written from Python \\n\")\n",
    "myfile.write(\"---------------------------------\\n\")\n",
    "myfile.write(\"Hello, world!\\n\")\n",
    "myfile.close() #Closes the file[always a must!, don't forget]"
   ]
  },
  {
   "cell_type": "code",
   "execution_count": null,
   "metadata": {},
   "outputs": [],
   "source": [
    "type(myfile)    #Text wrapper that enables navigation through the file, enables editing and manipulation through the file"
   ]
  },
  {
   "cell_type": "code",
   "execution_count": null,
   "metadata": {},
   "outputs": [],
   "source": [
    "myfile.seek(2)"
   ]
  },
  {
   "cell_type": "code",
   "execution_count": null,
   "metadata": {},
   "outputs": [],
   "source": [
    "read_file = open(\"../Data/test.txt\", 'r')"
   ]
  },
  {
   "cell_type": "code",
   "execution_count": null,
   "metadata": {},
   "outputs": [],
   "source": [
    "read_file.readline() #Reads line per line"
   ]
  },
  {
   "cell_type": "code",
   "execution_count": null,
   "metadata": {},
   "outputs": [],
   "source": [
    "read_file.readlines() #This reads all the content from start and displays last line"
   ]
  },
  {
   "cell_type": "code",
   "execution_count": null,
   "metadata": {},
   "outputs": [],
   "source": [
    "read_file.seek(0) #Brings cursor back to the start"
   ]
  },
  {
   "cell_type": "code",
   "execution_count": null,
   "metadata": {},
   "outputs": [],
   "source": [
    "read_file.readlines()"
   ]
  },
  {
   "cell_type": "markdown",
   "metadata": {},
   "source": [
    "The **mode** in which you open the file determines whether to write (w), read (r) or append(a) to file. \n",
    "\n",
    "Opening a file creates what we call a **file handle** which contains methods for manipulating the file. In our case, `myfile` has the methods to write and close the file. Closing the file makes it accessible in the disk. \n",
    "\n",
    "Alternatively, one can open the file in a mode that automatically closes the file when done. "
   ]
  },
  {
   "cell_type": "code",
   "execution_count": null,
   "metadata": {},
   "outputs": [],
   "source": [
    "with open(\"../Data/test1.txt\", \"w\") as myfile:\n",
    "    myfile.write(\"My first file written from Python \\n\")\n",
    "    myfile.write(\"---------------------------------\\n\")\n",
    "    myfile.write(\"Hello, world!\\n\")"
   ]
  },
  {
   "cell_type": "markdown",
   "metadata": {},
   "source": [
    "Let's check what else we can do with `open`."
   ]
  },
  {
   "cell_type": "code",
   "execution_count": null,
   "metadata": {},
   "outputs": [],
   "source": [
    "?open"
   ]
  },
  {
   "cell_type": "markdown",
   "metadata": {},
   "source": [
    "#### Fetching file from the web\n",
    "Download this [file](https://www.uniprot.org/docs/humchrx.txt) we will use to explore file reading in python. "
   ]
  },
  {
   "cell_type": "code",
   "execution_count": null,
   "metadata": {},
   "outputs": [],
   "source": [
    "import urllib.request                                 #Script for python to replace 'wget for bash'....so import urlib.request\n",
    "\n",
    "url = \"https://www.uniprot.org/docs/humchrx.txt\"      #specify url\n",
    "destination_filename = \"../Data/humchrx.txt\"          #specify destination\n",
    "urllib.request.urlretrieve(url, destination_filename) #format of the import script"
   ]
  },
  {
   "cell_type": "markdown",
   "metadata": {},
   "source": [
    "#### Reading a file line-at-a-time\n",
    "\n",
    "We can read the file line by line using `readline`. Thie reads the line one by one until the end of the file. This is suitable for a large file which may not fit memory. "
   ]
  },
  {
   "cell_type": "code",
   "execution_count": null,
   "metadata": {},
   "outputs": [],
   "source": [
    "humchrx = open('../Data/humchrx.txt', 'r')\n",
    "line = humchrx.readlines()\n",
    "print(line)"
   ]
  },
  {
   "cell_type": "code",
   "execution_count": null,
   "metadata": {},
   "outputs": [],
   "source": [
    "humchrx.close()"
   ]
  },
  {
   "cell_type": "code",
   "execution_count": null,
   "metadata": {},
   "outputs": [],
   "source": [
    "with open('../Data/test.txt', 'r') as myfile:\n",
    "    while True:\n",
    "        line = myfile.readline()\n",
    "        if len(line) == 0: # If there are no more lines\n",
    "            break\n",
    "        print(line) "
   ]
  },
  {
   "cell_type": "code",
   "execution_count": null,
   "metadata": {},
   "outputs": [],
   "source": [
    "with open('../Data/humchrx.txt', 'r') as myfile:\n",
    "    while True:\n",
    "        line = myfile.readline()\n",
    "        if len(line) == 0: # If there are no more lines\n",
    "            break\n",
    "        print(line) "
   ]
  },
  {
   "cell_type": "markdown",
   "metadata": {},
   "source": [
    "### Read the whole file\n",
    "\n",
    "If the file is small or PC has enough memory, you can read the whole file into memory as a list using `readlines`."
   ]
  },
  {
   "cell_type": "code",
   "execution_count": null,
   "metadata": {},
   "outputs": [],
   "source": [
    "with open('../Data/test.txt', 'r') as myfile:\n",
    "    lines = myfile.readlines()                 #reads line per line\n",
    "    for line in lines:\n",
    "        print(line)"
   ]
  },
  {
   "cell_type": "markdown",
   "metadata": {},
   "source": [
    "or as a whole"
   ]
  },
  {
   "cell_type": "code",
   "execution_count": null,
   "metadata": {},
   "outputs": [],
   "source": [
    "with open('../Data/test.txt', 'r') as myfile:\n",
    "    whole_file = myfile.read()                  #reads file as a single line\n",
    "    print(whole_file)"
   ]
  },
  {
   "cell_type": "code",
   "execution_count": null,
   "metadata": {},
   "outputs": [],
   "source": [
    "with open('../Data/humchrx.txt', 'r') as myfile:\n",
    "    whole_file = myfile.read()                  #reads file as a single line\n",
    "    print(whole_file)"
   ]
  },
  {
   "cell_type": "code",
   "execution_count": null,
   "metadata": {},
   "outputs": [],
   "source": [
    "### Note: if 'r' meets a blank line, it will print '\\n' for that"
   ]
  },
  {
   "cell_type": "markdown",
   "metadata": {},
   "source": [
    "### Exercise 1\n",
    "\n",
    "Write a function the reads the file (humchr.txt) and writes to another file (gene_names.txt) a clean list of gene names."
   ]
  },
  {
   "cell_type": "code",
   "execution_count": null,
   "metadata": {},
   "outputs": [],
   "source": [
    "humchr=open('../Data/humchrx.txt', 'r')"
   ]
  },
  {
   "cell_type": "code",
   "execution_count": null,
   "metadata": {},
   "outputs": [],
   "source": [
    "with open('../Data/humchrx.txt', 'r') as myfile:\n",
    "    for line in myfile.readlines():\n",
    "        \n",
    "        if line.startswith(\"Gene\"):\n",
    "            print(line)"
   ]
  },
  {
   "cell_type": "markdown",
   "metadata": {},
   "source": [
    "## Exercises"
   ]
  },
  {
   "cell_type": "markdown",
   "metadata": {},
   "source": [
    " 1. Write a function `areatriangle(b,h)` to compute the area of a triangle: formula is `area = .5*b*h`. Output should look like: \n",
    " \n",
    " `The area of a triangle of base 3 and height 5 is 7.5`"
   ]
  },
  {
   "cell_type": "code",
   "execution_count": null,
   "metadata": {},
   "outputs": [],
   "source": [
    "def area_traingle(b,h):\n",
    "    area = 0.5*b*h\n",
    "    print(\"The area of a triangle of base %d and height %d is %.1f\" %(b,h,area))\n",
    "    return"
   ]
  },
  {
   "cell_type": "code",
   "execution_count": null,
   "metadata": {},
   "outputs": [],
   "source": [
    "area_traingle(3, 5)"
   ]
  },
  {
   "cell_type": "markdown",
   "metadata": {},
   "source": [
    "2. Write a function `celsius_to_fahrenheit(temp)` to convert Celsius to Fahrentheit temperature. The formula is `(9/5) times temp plus 32`. Print the output in the form: \n",
    " \n",
    "`The Celsius temperature 50.0 is equivalent to 122.0 degrees Fahrenheit.`"
   ]
  },
  {
   "cell_type": "code",
   "execution_count": null,
   "metadata": {},
   "outputs": [],
   "source": [
    "def celcius_to_fahrenheit(temp):\n",
    "    \"\"\"A function that converts a temperature in celcius to farhenheit\"\"\"\n",
    "    f_temp = (9/5*temp) + 32\n",
    "    print(\"The Celsius temperature %.1f is equivalent to %.1f degrees Fahrenheit\" % (temp, f_temp))\n",
    "    return"
   ]
  },
  {
   "cell_type": "code",
   "execution_count": null,
   "metadata": {},
   "outputs": [],
   "source": [
    "celcius_to_fahrenheit(50)"
   ]
  },
  {
   "cell_type": "markdown",
   "metadata": {},
   "source": [
    "3. Create a function that prompts the user for their first and last name. The function written should include the city and state.\n",
    "That is, ask two more questions to get the city and the state you live in. Print where you are from on a new line. Put the customary comma between\n",
    "city and state. Your run should look like the following: \n",
    "\n",
    "\n",
    "```  \n",
    "Enter your first name: Ivan\n",
    "Enter your last name: Lloyd\n",
    "Enter the city you live in: Kampala\n",
    "Enter the state you live in: Central\n",
    "\n",
    "Your name is: Ivan Lloyd\n",
    "You live in:  Kampala, Central\n"
   ]
  },
  {
   "cell_type": "code",
   "execution_count": null,
   "metadata": {},
   "outputs": [],
   "source": [
    "def biodata():\n",
    "    fname = input(\"Enter your first name:\")\n",
    "    lname = input(\"Enter your last name:\")\n",
    "    city = input(\"Enter the city you live in:\")\n",
    "    state = input(\"Enter the state you live in:\")\n",
    "    print(\"Your name is: %s %s\" %(fname, lname))\n",
    "    print(\"You live in: %s, %s\" %(city, state))\n",
    "biodata()"
   ]
  },
  {
   "cell_type": "markdown",
   "metadata": {},
   "source": [
    "4. Write a function `count_down()` that starts at 10 and counts down to rocket launch. It's output should be:  \n",
    "`10 9 8 7 6 5 4 3 2 1 BLASTOFF!`  \n",
    "\n",
    "You can make all the numbers on the same line or different lines. Use a while loop."
   ]
  },
  {
   "cell_type": "code",
   "execution_count": null,
   "metadata": {},
   "outputs": [],
   "source": []
  },
  {
   "cell_type": "markdown",
   "metadata": {},
   "source": [
    "5. Write a function `sum_prod(x,y)` that prints the sum and product of the numbers x and y on separate lines, the sum printing first."
   ]
  },
  {
   "cell_type": "code",
   "execution_count": null,
   "metadata": {},
   "outputs": [],
   "source": []
  },
  {
   "cell_type": "markdown",
   "metadata": {},
   "source": [
    "6. Write a function `steps(n)` that adds up the numbers 1 through n and prints out the result. You should use either a `'while'` loop or a `'for'` loop. Be sure that you check your answer on several numbers n.  Be careful that your loop steps through all the numbers from 1 through and including n."
   ]
  },
  {
   "cell_type": "code",
   "execution_count": null,
   "metadata": {},
   "outputs": [],
   "source": []
  },
  {
   "cell_type": "markdown",
   "metadata": {},
   "source": [
    "7. Write a function `conv(miles)` to convert miles to feet. There are 5280 feet in each mile. Make the print out a statement as follows:  \n",
    "`There are 10560 feet in 2 miles.`  Except for the numbers, this statement should be exactly as written."
   ]
  },
  {
   "cell_type": "code",
   "execution_count": null,
   "metadata": {},
   "outputs": [],
   "source": []
  },
  {
   "cell_type": "markdown",
   "metadata": {},
   "source": [
    "8. Write a function `drinks(age)`. This function should use an `if-elif-else` statement to print out:  \n",
    "\n",
    "`Have a glass of milk.` for anyone under 7;  \n",
    "`Have a coke.` for anyone under 21, and   \n",
    "`Have a martini.` for anyone 21 or older.   \n",
    "\n",
    "Tip: Be careful about the ages 7 (a seven year old is not under 7) and 21. Also be careful to make the phrases exactly as shown.\n",
    "Test the runs (3 of them). Note that the test for the function output will use different numbers:\n",
    "\n",
    "```  \n",
    "drinks(5)\n",
    "Have a glass of milk.\n",
    "\n",
    "drinks(10)\n",
    "Have a coke.\n",
    "\n",
    "drinks(25)\n",
    "Have a martini."
   ]
  },
  {
   "cell_type": "code",
   "execution_count": null,
   "metadata": {},
   "outputs": [],
   "source": []
  },
  {
   "cell_type": "markdown",
   "metadata": {},
   "source": [
    "9. Write a function `odd_nums()` that prints the odd numbers from 1 through 100. Make all of these numbers appear on the same line (actually, when the line fills up it will wrap around, but ignore that.). In order to do this, your print statement should have `end=\" \"` in it. For example, `print(name,end=\" \")` will keep the next print statement from starting a new line. Be sure there is a space between these quotes or your numbers will run together. Use a single space as that is what the testing program expects. Use a 'for' loop and the `range()` function.  \n",
    "\n",
    "Things to be careful of that might go wrong: \n",
    "You print too many numbers, you put too much or too little space between them, you print each number on its own line, you print even numbers or all numbers, your first number isn't 1 or your last number isn't 99.  \n",
    "Always check first and last outputs when you write a loop.\n",
    "\n",
    "Test run (I've inserted a newline here to cause wrapping in the editor):\n",
    "\n",
    "```  \n",
    "odd_nums()\n",
    "1 3 5 7 9 11 13 15 17 19 21 23 25 27 29 31 33 35 37 39 41 43 45 47 49 51 53 55 \n",
    "57 59 61 63 65 67 69 71 73 75 77 79 81 83 85 87 89 91 93 95 97 99"
   ]
  },
  {
   "cell_type": "code",
   "execution_count": null,
   "metadata": {},
   "outputs": [],
   "source": []
  },
  {
   "cell_type": "markdown",
   "metadata": {},
   "source": [
    "10. Write a function `trapez()` that computes the area of a trapezoid. Here is the formula: `A = (1/2)(b1+b2)h`. In the formula b1 is the length of one of the bases, b2 the other. The height is h and the area is A. Basically, this takes the average of the two bases times the height. For a rectangle b1 = b2, so this reduces to b1*h. This means that you can do a pretty good test of the correctness of your function using a rectangle (that way you can compute the answer in your head). Use input statements to ask for the bases and the height.\n",
    "Convert these input strings to real numbers using `float()`. Print the output nicely EXACTLY like mine below.\n",
    "\n",
    "Tip: Be careful that your output on the test case below is exactly as shown so that the testing function judges your output correctly.  The testing function does not look at your input statements, so you don't have to use my input prompts if you don't want to. However, testing function will enter the three inputs in the order shown. See the other test run below.\n",
    "\n",
    "```  \n",
    "trapez()\n",
    "Enter the length of one of the bases: 3\n",
    "Enter the length of the other base: 4\n",
    "Enter the height: 8\n",
    "The area of a trapezoid with bases 3.0 and 4.0 and height 8.0 is 28.0\n",
    "\n",
    "\n",
    "Another test run. In grading, expect different input numbers to be used.\n",
    "\n",
    "trapez()\n",
    "Enter the length of one of the bases: 10\n",
    "Enter the length of the other base: 11\n",
    "Enter the height: 12\n",
    "The area of a trapezoid with bases 10.0 and 11.0 and height 12.0 is 126.0"
   ]
  },
  {
   "cell_type": "code",
   "execution_count": null,
   "metadata": {},
   "outputs": [],
   "source": []
  },
  {
   "cell_type": "markdown",
   "metadata": {},
   "source": [
    "11. Write a function `diner_waitress()` that asks for you order. First start an empty list, call it order. Then use a `while loop and an input()` statement to gather the order. Continue in the while loop until the customer says `that's all`. One way to end the loop is to use `break` to break out of the loop when `that's all` is entered. Recall that you can add to a list by using the list's .append() method; suppose that your list is called order. You are going to have to input one food at a time and append it to the order list. Then print out the order. Here is my run:  \n",
    "```  \n",
    "diner_waitress()\n",
    "\n",
    "Hello, I'll be your waitress. What will you have?\n",
    "\n",
    "menu item: eggs\n",
    "menu item: bacon\n",
    "menu item: toast\n",
    "menu item: jelly\n",
    "menu item: that's all\n",
    "\n",
    "You've ordered:\n",
    "['eggs', 'bacon', 'toast', 'jelly']"
   ]
  },
  {
   "cell_type": "code",
   "execution_count": null,
   "metadata": {},
   "outputs": [],
   "source": []
  },
  {
   "cell_type": "markdown",
   "metadata": {},
   "source": [
    "12. Heron's formula for computing the area of a triangle with sides a, b, and c is as follows. Let `s = .5(a + b + c)` --- that is, 1/2 of the perimeter of the triangle. Then the area is the square root of `s(s-a)(s-b)(s-c)`. You can compute the square root of x by `x**.5` (raise x to the 1/2 power). Use an input statement to get the length of the sides. Don't forget to convert this input to a real number using float(). Adjust your output to be just like what you see below. Here is a run of my program:\n",
    "\n",
    "```  \n",
    "heron()\n",
    "\n",
    "Enter length of side one: 9\n",
    "Enter length of side two: 12\n",
    "Enter length of side three: 15\n",
    "\n",
    "Area of a triangle with sides 9.0 12.0 15.0 is 54.0"
   ]
  },
  {
   "cell_type": "code",
   "execution_count": null,
   "metadata": {},
   "outputs": [],
   "source": []
  },
  {
   "cell_type": "markdown",
   "metadata": {},
   "source": [
    "13. The following list gives the hourly temperature during a 24 hour day. Write a function, that will take such a list and compute 3 things: average temperature, high (maximum temperature), and low (minimum temperature) for the day.  I will test with a different set of temperatures, so don't pick out the low or the high and code it into your program. This should work for other hourly_temp lists as well. This can be done by looping (iterating) through the list. I suggest you not write it all at once. You might write a function that computes just one of these, say average, then improve it to handle another, say maximum, etc. Sample run using the list hourly_temp. \n",
    "\n",
    "Note that the testing function will use a different hourly list.  Be sure that you function works on this list and test it on at least one other list of your own construction. Note also, that the list the grader uses may not have the same number of items as this one.\n",
    "\n",
    "\n",
    "hourly_temp  = [40.0, 39.0, 37.0, 34.0, 33.0, 34.0, 36.0, 37.0, 38.0, 39.0, \\\n",
    "               40.0, 41.0, 44.0, 45.0, 47.0, 48.0, 45.0, 42.0, 39.0, 37.0, \\\n",
    "               36.0, 35.0, 33.0, 32.0]\n",
    "\n",
    "\n",
    "```  \n",
    "weather(hourly_temp)\n",
    "Average: 38.791666666666664\n",
    "High: 48.0\n",
    "Low: 32.0"
   ]
  },
  {
   "cell_type": "code",
   "execution_count": null,
   "metadata": {},
   "outputs": [],
   "source": []
  },
  {
   "cell_type": "markdown",
   "metadata": {},
   "source": [
    "14. Write a function that is complementary to the one in the previous problem that will convert a date such as June 17, 2016 into the format 6/17/2016.  I suggest that you use a dictionary to convert from the name of the month to the number of the month. Then it is easy to look up the month number as months[\"February\"] and so on. Note that the month names should begin with capital letters. \n",
    " \n",
    "***Tip:***    \n",
    "In print statements, commas create a space.  So you may have difficulty avoiding a space between the 7, 17, and 2016 below and the following comma.  I suggest that you build the output as a single string containing the properly formatted date and then print that.  You can convert any number to string by using str() and tie the parts together using +. Duplicate the format of the example output exactly. \n",
    "\n",
    "Here is a printout of my run for June 17, 2016.\n",
    "\n",
    "```  \n",
    "date_conv_modified(\"July\",17, 2016)\n",
    "7/17/2016"
   ]
  },
  {
   "cell_type": "code",
   "execution_count": null,
   "metadata": {},
   "outputs": [],
   "source": []
  },
  {
   "cell_type": "markdown",
   "metadata": {},
   "source": [
    "15. Write a function temp_stat(temps) to compute the average, median, standard deviation and variance of the temperatures in the table.  Print each out.\n",
    "The following code generates the same temperatures each time because the seed is set to 150. Print the temperature list as the first line of the function.\n",
    "\n",
    "Here is what my run on the table of temperatures built below looks like:\n",
    "\n",
    "```  \n",
    "temp_stat(temperatures)\n",
    "[52, 61, 45, 50, 44, 34, 57, 80, 91, 50, 38, 91, 84, 20, 55, 23, 83, 42, 44, 84]\n",
    "Mean:  56.4\n",
    "Median:  51.0\n",
    "Standard deviation:  22.04397518836526\n",
    "Variance:  485.9368421052631\n",
    "\n",
    "```"
   ]
  },
  {
   "cell_type": "code",
   "execution_count": null,
   "metadata": {},
   "outputs": [],
   "source": []
  },
  {
   "cell_type": "markdown",
   "metadata": {},
   "source": [
    "16. Write a function `write_to_file(filename,myname,myage,major)` that opens the file <filename> and writes 3 lines in it using the data given. Here is a sample of what could be in the file. Call the file 'namefile.txt', so that it is identifiable as a text file:\n",
    "\n",
    "```  \n",
    "My name is George  \n",
    "My age is 21   \n",
    "I am majoring in Physics\n",
    "\n",
    "```\n",
    "\n",
    "Tips: \n",
    "1. `write_to_file()` can take only a string and, in fact, only one. So whatever you write has to be put together into one string (using +, for example).\n",
    "2. Add `+\"\\n\"` on the end of each write to put a newline at the end of each line. Otherwise, everything will be jammed together on one line.\n",
    "3. Convert your age (a number) to a string -- use `str()` to do that. Then join it to the other parts of the string before writing.\n",
    "4. When running the function, use quotes around every argument except the number."
   ]
  },
  {
   "cell_type": "code",
   "execution_count": null,
   "metadata": {},
   "outputs": [],
   "source": []
  },
  {
   "cell_type": "markdown",
   "metadata": {},
   "source": [
    "17. Write a function that can enter the productand its cost and it will print out nicely. Specifically, allow 25 characters for the product name and left-justify it in that space; allow 6 characters for the cost and right justify it in that space with 2 decimal places. Precede the cost with a dollar-sign.  There should be no other spaces in the output.\n",
    "\n",
    "Here is how one of my runs looks:\n",
    "```  \n",
    "toothbrush               $  2.60\n",
    "\n",
    "```"
   ]
  },
  {
   "cell_type": "code",
   "execution_count": null,
   "metadata": {},
   "outputs": [],
   "source": []
  },
  {
   "cell_type": "markdown",
   "metadata": {},
   "source": [
    "18. Write a program that will sort an alphabetic list (or list of words) into alphabetical order. Make it sort independently of whether the letters are \n",
    "capital or lowercase. First print out the wordlist, then sort and print out the sorted list. Here is my run on the list firstline below (note that the wrapping was added when I pasted it into the file -- this is really two lines in the output).\n",
    "\n",
    "```  \n",
    "['Happy', 'families', 'are', 'all', 'alike;', 'every', 'unhappy', 'family',\n",
    " 'is', 'unhappy', 'in', 'its', 'own', 'way.', 'Leo Tolstoy', 'Anna Karenina']\n",
    "['alike;', 'all', 'Anna Karenina', 'are', 'every', 'families', 'family',\n",
    "'Happy', 'in', 'is', 'its', 'Leo Tolstoy', 'own', 'unhappy', 'unhappy', 'way.']\n",
    "\n",
    "```"
   ]
  },
  {
   "cell_type": "code",
   "execution_count": null,
   "metadata": {},
   "outputs": [],
   "source": []
  },
  {
   "cell_type": "markdown",
   "metadata": {},
   "source": [
    "### MORE ON READING AND WRITING TO FILES"
   ]
  },
  {
   "cell_type": "markdown",
   "metadata": {},
   "source": [
    "_Reading/writing files summary:_\n",
    "\n",
    "```\n",
    "infile = open(filename)  # For reading. Also infile = open(filename,'r')\n",
    "infile.close()\n",
    "outfile = open(filename,\"w\")  \"Open for writing\n",
    "outfile.write(\"string to write\")\n",
    "outfile.close()\n",
    "```"
   ]
  },
  {
   "cell_type": "code",
   "execution_count": null,
   "metadata": {},
   "outputs": [],
   "source": [
    "def print_file(filename):\n",
    "    \"\"\" Opens file and prints its contents line by line. \"\"\"\n",
    "    infile = open(filename)\n",
    "    \n",
    "    for line in infile:\n",
    "        print(line, end=\"\") # the file has \"\\n\" at the end of each line already\n",
    "    \n",
    "    infile.close()"
   ]
  },
  {
   "cell_type": "code",
   "execution_count": null,
   "metadata": {},
   "outputs": [],
   "source": [
    "print_file(\"../Data/ls_orchid.fasta\")"
   ]
  },
  {
   "cell_type": "code",
   "execution_count": null,
   "metadata": {},
   "outputs": [],
   "source": [
    "def print_file():\n",
    "    \"\"\" Opens file and prints its contents line by line. \"\"\"\n",
    "    infile = open(\"../Data/newhumpty.txt\")\n",
    "    \n",
    "    for line in infile:\n",
    "        print(line, end = \"\") # the file has \"\\n\" at the end of each line already\n",
    "    \n",
    "    infile.close()"
   ]
  },
  {
   "cell_type": "code",
   "execution_count": null,
   "metadata": {},
   "outputs": [],
   "source": [
    "print_file()"
   ]
  },
  {
   "cell_type": "code",
   "execution_count": null,
   "metadata": {},
   "outputs": [],
   "source": [
    "def copy_file(infilename, outfilename):\n",
    "    \"\"\" Opens two files and copies one into the other line by line. \"\"\"\n",
    "    infile = open(infilename, 'r')\n",
    "    outfile = open(outfilename,'w')\n",
    "    \n",
    "    for x in infile:\n",
    "        outfile.write(x)\n",
    "        \n",
    "    infile.close()\n",
    "    outfile.close()"
   ]
  },
  {
   "cell_type": "code",
   "execution_count": null,
   "metadata": {},
   "outputs": [],
   "source": [
    "copy_file(\"../Data/HumptyDumpty.txt\", \"../Data/copy_cat.txt\")"
   ]
  },
  {
   "cell_type": "code",
   "execution_count": null,
   "metadata": {},
   "outputs": [],
   "source": [
    "def copy_file():\n",
    "    \"\"\" Opens two files and copies one into the other line by line. \"\"\"\n",
    "    infile = open(\"../Data/HumptyDumpty.txt\", 'r')\n",
    "    outfile = open(\"../Data/Newdumpty.txt\",'w')\n",
    "    \n",
    "    for x in infile:\n",
    "        outfile.write(x)\n",
    "        \n",
    "    infile.close()\n",
    "    outfile.close()"
   ]
  },
  {
   "cell_type": "code",
   "execution_count": null,
   "metadata": {},
   "outputs": [],
   "source": [
    "copy_file()"
   ]
  },
  {
   "cell_type": "markdown",
   "metadata": {},
   "source": [
    "##### Example 1:"
   ]
  },
  {
   "cell_type": "markdown",
   "metadata": {},
   "source": [
    "Convert this function to a standalone program or script that takes two file names from the command line and copies one to the other   \n",
    "\n",
    "Steps:   \n",
    "1. Delete \"Def\" line. You don't need it.\n",
    "2. Use Edit menu of Jupyternotebooks to Unindent all the lines.\n",
    "3. import the system library `sys`\n",
    "4. `sys.argv` is a list of the filenames following the program name.   \n",
    "   `sys.argv[0]` is the program name,   \n",
    "   `sys.argv[1]` is first argument, etc.   \n",
    "   Get the infilename and outfilename from this list.\n",
    "5. Save the program as `../Scripts/copy_file.py`\n",
    "6. Run the program from a terminal window (Mac) or (Linux) as:  \n",
    "   `python ../Scripts/copy_file.py ../Data/HumptyDumpty.txt ../Data/newhumpty.txt`"
   ]
  },
  {
   "cell_type": "code",
   "execution_count": null,
   "metadata": {},
   "outputs": [],
   "source": [
    "import sys\n",
    "infilename = sys.argv[1]\n",
    "outfilename = sys.argv[2]\n",
    "\n",
    "\"\"\" Opens two files and copies one into the other line by line. \"\"\"\n",
    "infile = open(infilename, 'r')\n",
    "outfile = open(outfilename,'w')\n",
    "\n",
    "for x in infile:\n",
    "    outfile.write(x)\n",
    "    \n",
    "infile.close()\n",
    "outfile.close()"
   ]
  },
  {
   "cell_type": "code",
   "execution_count": null,
   "metadata": {},
   "outputs": [],
   "source": [
    "\n",
    "\"\"\" Opens two files and copies one into the other line by line. \"\"\"\n",
    "\n",
    "infile = open(infilename)\n",
    "outfile = open(outfilename,'w')\n",
    "\n",
    "for line in infile:\n",
    "    outfile.write(line)\n",
    "    \n",
    "infile.close()\n",
    "outfile.close()"
   ]
  },
  {
   "cell_type": "code",
   "execution_count": null,
   "metadata": {},
   "outputs": [],
   "source": [
    "copy_file(\"../Data/test.txt\", \"../Data/written.txt\")"
   ]
  },
  {
   "cell_type": "code",
   "execution_count": null,
   "metadata": {},
   "outputs": [],
   "source": [
    "## Stand-alone script\n",
    "import sys\n",
    "\n",
    "infilename = sys.argv[1]\n",
    "outfilename = sys.argv[2]\n",
    "\n",
    "infile = open(infilename)\n",
    "outfile = open(outfilename,'w')\n",
    "\n",
    "for line in infile:\n",
    "    outfile.write(line)\n",
    "    \n",
    "infile.close()\n",
    "outfile.close()"
   ]
  },
  {
   "cell_type": "markdown",
   "metadata": {},
   "source": [
    "##### Example 2:   \n",
    "\n",
    "The function reads through a text file and counts the number of different words. It uses a dict (dictionary data type) `d = {key1:value1,  key2:value2,  key3:value3}` where `d[key2]` gives value2, etc. The key in this case is a word and the value is the number of times it occurs.\n",
    "\n",
    "The plan is to read through a text file, split each line into its constituent\n",
    "words, add each word to a dictionary, then add one to the number of times the\n",
    "word occurs in the dictionary. Finally, we sort the dictionary and print it\n",
    "out listing each word (key) and its count (value). "
   ]
  },
  {
   "cell_type": "code",
   "execution_count": null,
   "metadata": {},
   "outputs": [],
   "source": [
    "def count_words(filename):\n",
    "    \"\"\" \n",
    "    Makes a list of the words in the file filename and the number of times each word appears.\n",
    "\n",
    "    \"\"\"\n",
    "        \n",
    "    text_file = open(filename)     # open the file for reading\n",
    "    \n",
    "    # Set up an empty dictionary to start a standard design pattern loop\n",
    "    words_dic = {}\n",
    "    \n",
    "    # This loop adds each word to the dictionary and updates its count. \n",
    "    # Change all words to lower case so Horse and horse are seen as the same word.\n",
    "    \n",
    "    for line in text_file:         # step through each line in the text file\n",
    "        for word in line.lower().split():   # split into a list of words\n",
    "            word = word.strip(\"'?,.;!-/\\\"\") # strip out the stuff we ignore\n",
    "            if word not in words_dic:\n",
    "                words_dic[word] = 0      # add word to words with 0 count\n",
    "            words_dic[word] = words_dic[word] + 1    # add 1 to the count\n",
    "    \n",
    "    text_file.close() \n",
    "                   \n",
    "    # Sorts the dictionary words into a list and then print them out\n",
    "    print(\"List of words in the file with number of times each appears.\")\n",
    "    word_list = sorted(words_dic)\n",
    "    for word in word_list:\n",
    "        print(word, words_dic[word])"
   ]
  },
  {
   "cell_type": "code",
   "execution_count": null,
   "metadata": {},
   "outputs": [],
   "source": [
    "count_words(\"../Data/HumptyDumpty.txt\")"
   ]
  },
  {
   "cell_type": "code",
   "execution_count": null,
   "metadata": {},
   "outputs": [],
   "source": [
    "# Stand-alone program\n",
    "import sys\n",
    "\n",
    "filename = sys.argv[1]\n",
    "# print(\"\\n\",filename,\"\\n\")  # You can check that the filename is correct\n",
    "    \n",
    "text_file = open(filename)     # open the file for reading\n",
    "\n",
    "# Set up an empty dictionary to start a standard design pattern loop\n",
    "words_dic = {}\n",
    "\n",
    "# This loop adds each word to the dictionary and updates its count. Change \n",
    "# all words to lower case so Horse and horse are seen as the same word.\n",
    "for line in text_file:         # step through each line in the text file\n",
    "    for word in line.lower().split():   # split into a list of words\n",
    "        word = word.strip(\"'?,.;!-/\\\"\") # strip out the stuff we ignore\n",
    "        if word not in words_dic:\n",
    "            words_dic[word] = 0      # add word to words with 0 count\n",
    "        words_dic[word] = words_dic[word] + 1    # add 1 to the count\n",
    "\n",
    "text_file.close() \n",
    "               \n",
    "# Sorts the dictionary words into a list and then print them out\n",
    "print(\"List of words in the file with number of times each appears.\")\n",
    "word_list = sorted(words_dic)\n",
    "for word in word_list:\n",
    "    print(words_dic[word], word)\n"
   ]
  },
  {
   "cell_type": "markdown",
   "metadata": {},
   "source": [
    "##### Example 3: CSV files"
   ]
  },
  {
   "cell_type": "markdown",
   "metadata": {},
   "source": [
    "We now turn to reading/writing CSV files, that is Comma Separated Value files.   \n",
    "Text files lack the structure that we need for certain applications.  CSV files can be read or written by spreadsheet programs such as Excel.   \n",
    "They may be the most common way of transferring files from one application to another.   \n",
    "\n",
    "_Summary of CSV file statements:_   \n",
    "\n",
    "```import csv\n",
    "\n",
    "infile = open(filename)    # For reading. Also infile = open(filename,'r')\n",
    "infile.close()             # An open file locks other applications out\n",
    "rows = csv.reader(infile)            # Read row\n",
    "\n",
    "f = open(filename, 'w', newline='')  # Open for writing\n",
    "csv.writer(f).writerows(rowlist)     # Write all rows at once\n",
    "csv.writer(f).writerow(row)          # Write one row\n",
    "f.close()```"
   ]
  },
  {
   "cell_type": "code",
   "execution_count": null,
   "metadata": {},
   "outputs": [],
   "source": [
    "import csv\n",
    "\n",
    "def read_csv_file(filename):\n",
    "    \"\"\"Reads a CSV file and prints each row, which is a list. \"\"\"\n",
    "    f = open(filename)\n",
    "    for row in csv.reader(f):\n",
    "        print(row)\n",
    "    f.close()"
   ]
  },
  {
   "cell_type": "code",
   "execution_count": null,
   "metadata": {},
   "outputs": [],
   "source": [
    "read_csv_file(\"../Data/BooksRead.csv\")"
   ]
  },
  {
   "cell_type": "markdown",
   "metadata": {},
   "source": [
    "#### Exercise\n",
    "\n",
    "Rewrite read_csv_file(filename), call it read_csv_file2(filename), so that you print each row without the list bracket. You will print each item in the row separately instead of printing the whole row.   \n",
    "This requires you to know before-hand how many columns are in the csv file. In the case of `BooksRead.csv`, \n",
    "there are 3 items in each row:   \n",
    "How do you address each item in the row list named row? They are row[?] and row[??] and row[???], where you fill in the ?, ??, and ??? values.   \n",
    "\n",
    "Here's what the output should look like:\n",
    "\n",
    "```read_csv_file2(\"BooksRead.csv\")\n",
    "Beckert, Sven Empire of Cotton history\n",
    "Buckley, Carla The Deepest Secret mystery\n",
    "Carcaterra, Lorenzo Chasers mystery\n",
    "Catton, Bruce The Army of the Potomac: The Glory Road military\n",
    "Cohen, Gabriel The Ninth Step mystery\n",
    "Darwin, Charles Origin of Species science\n",
    "Ho, Yong China: An Illustrated History history\n",
    "James, Henry Daisy Miller novel\n",
    "Larsson, Stieg The Girl who played with fire novel\n",
    "Lewis, Michael Liar's Poker: rising through the wreckage on Wall Street economics\n",
    "Messenger, Bill Elements of Jazz: From Cakewalks to Fusion music\n",
    "Paulos, John Allen Innumeracy mathematics\n",
    "Penzler, Otto, ed. Murder at the Racetrack  mystery\n",
    "Pintoff, Stefanie Secret of the White Rose mystery\n",
    "Post, Robert C. Democracy, Expertise, Academic Freedom law\n",
    "Solzhenitsyn, Alexander One Day in the Life of Ivan Denisovich novel\n",
    "Torrence, Bruce F. and Eve A. The Student's Introduction to Mathematica mathematics\n",
    "Woods, Stewart Mounting Fears novel\n",
    "```"
   ]
  },
  {
   "cell_type": "code",
   "execution_count": null,
   "metadata": {},
   "outputs": [],
   "source": [
    "import csv\n",
    "\n",
    "def read_csv_file2():\n",
    "    \"\"\"Reads a CSV file and prints each row without list brackets. \"\"\"\n",
    "    filename = \"../Data/BooksRead.csv\"\n",
    "    f = open(filename,'r')\n",
    "    lis2 = [] \n",
    "    lis3 = []\n",
    "    for row in csv.reader(f):\n",
    "        print(str(row[0] + \" \" + row[1] + \" \" + row[2])) # Access .csv at indexes, concatenate them accordingly after converting them to strings\n",
    "            \n",
    "    f.close()\n",
    "read_csv_file2()"
   ]
  },
  {
   "cell_type": "code",
   "execution_count": null,
   "metadata": {},
   "outputs": [],
   "source": [
    "# Stand-alone script\n",
    "import csv\n",
    "import sys\n",
    "\n",
    "filename = sys.argv[1]\n",
    "f = open(filename,'r')\n",
    "lis2 = [] \n",
    "lis3 = []\n",
    "for row in csv.reader(f):\n",
    "    print(str(row[0] + \" \" + row[1] + \" \" + row[2]))\n"
   ]
  },
  {
   "cell_type": "markdown",
   "metadata": {},
   "source": [
    "##### Example 4: Just for Fun 😆😆😆"
   ]
  },
  {
   "cell_type": "markdown",
   "metadata": {},
   "source": [
    "Let's write a four line poem. Call it `simple_poem()`. Essentially you have to write a loop around this so that you get 4 lines.\n",
    "Remember that the inside or scope of the loop has to be indented 4 spaces. Follow the conventional English language sentence construction notation of `article + noun + verb + adverb` using the lists given below for each and combine them using the `random` module.\n",
    "\n",
    "```\n",
    "verbs=[\"are\",\"is\",\"goes\",\"cooks\",\"shoots\",\"faints\",\"chews\",\"screams\"]\n",
    "nouns=[\"bear\",\"lion\",\"mother\",\"baby\",\"sister\",\"car\",\"bicycle\",\"book\"]\n",
    "adverbs=[\"handily\",\"sweetly\",\"sourly\",\"gingerly\",\"forcefully\",\"meekly\"]\n",
    "articles=[\"a\",\"the\",\"that\",\"this\"]\n",
    "\n",
    "```"
   ]
  },
  {
   "cell_type": "code",
   "execution_count": null,
   "metadata": {},
   "outputs": [],
   "source": [
    "import random\n",
    "\n",
    "verbs=[\"are\",\"is\",\"goes\",\"cooks\",\"shoots\",\"faints\",\"chews\",\"screams\"]\n",
    "nouns=[\"bear\",\"lion\",\"mother\",\"baby\",\"sister\",\"car\",\"bicycle\",\"book\"]\n",
    "adverbs=[\"handily\",\"sweetly\",\"sourly\",\"gingerly\",\"forcefully\",\"meekly\"]\n",
    "articles=[\"a\",\"the\",\"that\",\"this\"]\n",
    "\n",
    "def simple_poem():\n",
    "    article = random.choice(articles)    \n",
    "    noun = random.choice(nouns)\n",
    "    verb = random.choice(verbs)\n",
    "    adverb = random.choice(adverbs)\n",
    "    \n",
    "    our_sentence = article + \" \" + noun + \" \" + verb + \" \" + adverb + \".\"\n",
    "    our_sentence = our_sentence.capitalize()\n",
    "    \n",
    "    print(our_sentence)\n",
    "simple_poem()"
   ]
  },
  {
   "cell_type": "markdown",
   "metadata": {},
   "source": [
    "### Scripts and Modules\n",
    "\n",
    "A script is a file containing Python definitions and statements for performing some analysis. Scripts are known as when they are intended for use in other Python programs. Many Python modules come with Python as part of the standard library. \n",
    "\n",
    "You can get a list of available modules using help() and explore them."
   ]
  },
  {
   "cell_type": "code",
   "execution_count": null,
   "metadata": {},
   "outputs": [],
   "source": [
    "ls"
   ]
  },
  {
   "cell_type": "code",
   "execution_count": null,
   "metadata": {},
   "outputs": [],
   "source": [
    "cd ../Scripts/"
   ]
  },
  {
   "cell_type": "code",
   "execution_count": null,
   "metadata": {},
   "outputs": [],
   "source": [
    "\"\"\"write_genes.py takes an annotation file and\n",
    "writes gene names to file\n",
    "Usage:\n",
    "    python write_genes.py <>\"\"\"\n",
    "import sys\n",
    "\n",
    "# print(gene_file)\n",
    "# print(out_file)\n",
    "dna_list=list('ACGT')\n",
    "def getGenList(gene_file):\n",
    "    with open (gene_file, 'r') as humchr:\n",
    "        tag = False #Start by setting the tag to false\n",
    "        gene_list=[]\n",
    "        for line in humchr:\n",
    "                if line.startswith('Gene'):\n",
    "                    tag = True\n",
    "                if tag:\n",
    "                    line_split = line.split()\n",
    "                    if len(line_split) != 0:\n",
    "                        if '-' in line_split[0]:\n",
    "                            continue\n",
    "                        else:\n",
    "                            gene_list.append(line_split[0])\n",
    "    return gene_list[3:][:-2]\n",
    "\n",
    "    clean_gene_list = getGenList()\n",
    "\n",
    "def writeGeneList(clean_gene_list):\n",
    "    with open(out_file, 'w') as gene_names:   #creating a new file called gene_names\n",
    "        for gene in clean_gene_list:\n",
    "                gene_names.writelines(gene+'\\n')\n",
    "    print('Genes have been written successfully!!')\n",
    "if len(sys.argv) < 3:\n",
    "    print(__doc__)\n",
    "else:\n",
    "    gene_file = sys.argv[1]\n",
    "    out_file = sys.argv[2]\n",
    "    clean_gene_list = getGenList(gene_file)\n",
    "    writeGeneList(clean_gene_list, out_file)"
   ]
  },
  {
   "cell_type": "code",
   "execution_count": null,
   "metadata": {},
   "outputs": [],
   "source": [
    "\n",
    "with open (gene_file, 'r') as humchr:\n",
    "    with open(out_file, 'w')as gene_names:      \n",
    "        tag = False\n",
    "        gene_list=[]\n",
    "        for line in humchr:\n",
    "            if line.startswith('Gene'):\n",
    "                    tag = True\n",
    "            if tag:\n",
    "                line_split = line.split()\n",
    "                if len(line_split) != 0:\n",
    "                    if'_' in line_split[0]:\n",
    "                        continue\n",
    "                    else:\n",
    "                        gene_list.append(line_split[0])\n",
    "                        #print(gene_list)\n",
    "        for gene in (gene_list[3:][:-2]):\n",
    "            gene_names.writelines(gene+'\\n')"
   ]
  },
  {
   "cell_type": "code",
   "execution_count": null,
   "metadata": {},
   "outputs": [],
   "source": [
    "ls -l"
   ]
  },
  {
   "cell_type": "code",
   "execution_count": null,
   "metadata": {},
   "outputs": [],
   "source": [
    "import write_genes"
   ]
  },
  {
   "cell_type": "code",
   "execution_count": null,
   "metadata": {},
   "outputs": [],
   "source": [
    "from write_genes import *"
   ]
  },
  {
   "cell_type": "code",
   "execution_count": null,
   "metadata": {},
   "outputs": [],
   "source": [
    "getGenList('../Data/humchrx.txt')"
   ]
  },
  {
   "cell_type": "code",
   "execution_count": null,
   "metadata": {},
   "outputs": [],
   "source": []
  },
  {
   "cell_type": "code",
   "execution_count": null,
   "metadata": {},
   "outputs": [],
   "source": [
    "%% bash python write_genes.py ../Data/humchrx.txt ../Data/gene_names2.txt"
   ]
  },
  {
   "cell_type": "markdown",
   "metadata": {},
   "source": [
    "### OR"
   ]
  },
  {
   "cell_type": "code",
   "execution_count": null,
   "metadata": {},
   "outputs": [],
   "source": [
    "!python ../Scripts/write_genes.py ../Data/humchrx.txt ../Data/gene_names2.txt"
   ]
  },
  {
   "cell_type": "code",
   "execution_count": null,
   "metadata": {},
   "outputs": [],
   "source": [
    "%% bash "
   ]
  },
  {
   "cell_type": "markdown",
   "metadata": {},
   "source": [
    "### File handling, OS module, Shutil and Path modules\n",
    "\n",
    "Python can also interface directly with the Linux operating system using the **os**, **Shutil** and **path** modules.\n",
    "\n",
    "First, let's import the OS module"
   ]
  },
  {
   "cell_type": "code",
   "execution_count": null,
   "metadata": {},
   "outputs": [],
   "source": [
    "import os"
   ]
  },
  {
   "cell_type": "code",
   "execution_count": null,
   "metadata": {},
   "outputs": [],
   "source": [
    "os."
   ]
  },
  {
   "cell_type": "code",
   "execution_count": null,
   "metadata": {},
   "outputs": [],
   "source": [
    "os.getcwd() #Same as pwd in bash"
   ]
  },
  {
   "cell_type": "code",
   "execution_count": null,
   "metadata": {},
   "outputs": [],
   "source": [
    "os.chdir('..') #Goes one directory back"
   ]
  },
  {
   "cell_type": "code",
   "execution_count": null,
   "metadata": {},
   "outputs": [],
   "source": [
    "os.getcwd()"
   ]
  },
  {
   "cell_type": "code",
   "execution_count": null,
   "metadata": {},
   "outputs": [],
   "source": [
    "?os"
   ]
  },
  {
   "cell_type": "code",
   "execution_count": null,
   "metadata": {},
   "outputs": [],
   "source": [
    "os.listdir()"
   ]
  },
  {
   "cell_type": "code",
   "execution_count": null,
   "metadata": {},
   "outputs": [],
   "source": [
    "os.chdir(\"Scripts\")"
   ]
  },
  {
   "cell_type": "code",
   "execution_count": null,
   "metadata": {},
   "outputs": [],
   "source": [
    "os.getcwd()"
   ]
  },
  {
   "cell_type": "code",
   "execution_count": null,
   "metadata": {},
   "outputs": [],
   "source": [
    "os.path.isdir('../Scripts')"
   ]
  },
  {
   "cell_type": "code",
   "execution_count": null,
   "metadata": {},
   "outputs": [],
   "source": [
    "os.path.isfile('./bank.py')"
   ]
  },
  {
   "cell_type": "markdown",
   "metadata": {},
   "source": [
    "### path manipulation\n",
    "The path module inside the os module contains methods related with path manipulation.For example you can use `path.join()` to join paths. \n",
    "- `path.exists(path):` Checks if a given path exists.\n",
    "- `path.split(path):` Returns a tuple splitting the file or directory name at the end and the rest of the path\n",
    "- `path.splitext(path):` Splits out the extension of a file. It returns a tuple with the dotted extension and the original parameter up to the dot.\n",
    "- `path.join(directory1,directory2,...)`: Join two or more path name components, inserting the operating system path separator as needed"
   ]
  },
  {
   "cell_type": "code",
   "execution_count": null,
   "metadata": {},
   "outputs": [],
   "source": [
    "import os\n",
    "?os.path.join"
   ]
  },
  {
   "cell_type": "markdown",
   "metadata": {},
   "source": [
    "Explore more at your own time.\n",
    "\n",
    "### Shutil\n",
    "Utility functions for copying and archiving files and directory trees."
   ]
  },
  {
   "cell_type": "code",
   "execution_count": null,
   "metadata": {},
   "outputs": [],
   "source": [
    "import shutil"
   ]
  },
  {
   "cell_type": "code",
   "execution_count": null,
   "metadata": {},
   "outputs": [],
   "source": [
    "?shutil"
   ]
  },
  {
   "cell_type": "markdown",
   "metadata": {},
   "source": [
    "# Converting function to a module"
   ]
  },
  {
   "cell_type": "markdown",
   "metadata": {},
   "source": [
    "You can save it as a python module by:    \n",
    "1. Creating a new Python file e.g my_module.py    \n",
    "2. Copying the function inside my_module.py "
   ]
  },
  {
   "cell_type": "code",
   "execution_count": null,
   "metadata": {},
   "outputs": [],
   "source": [
    "def greet(name):\n",
    "    print(\"Hello, %s!\" % name)"
   ]
  },
  {
   "cell_type": "code",
   "execution_count": null,
   "metadata": {},
   "outputs": [],
   "source": [
    "greet(\"Grace\")"
   ]
  },
  {
   "cell_type": "code",
   "execution_count": null,
   "metadata": {},
   "outputs": [],
   "source": [
    "pwd"
   ]
  },
  {
   "cell_type": "code",
   "execution_count": null,
   "metadata": {},
   "outputs": [],
   "source": [
    "import my_module"
   ]
  },
  {
   "cell_type": "code",
   "execution_count": null,
   "metadata": {},
   "outputs": [],
   "source": [
    "import sys\n",
    "sys.path.append('Scripts')"
   ]
  },
  {
   "cell_type": "code",
   "execution_count": null,
   "metadata": {},
   "outputs": [],
   "source": [
    "print(my_module.greet(\"Joel\"))"
   ]
  },
  {
   "cell_type": "markdown",
   "metadata": {},
   "source": [
    "Now you can import and use it in another script:"
   ]
  },
  {
   "cell_type": "code",
   "execution_count": null,
   "metadata": {},
   "outputs": [],
   "source": [
    "import my_module\n",
    "print(my_module.greet(\"Ivan\"))"
   ]
  },
  {
   "cell_type": "markdown",
   "metadata": {},
   "source": [
    "## Exercise"
   ]
  },
  {
   "cell_type": "markdown",
   "metadata": {},
   "source": [
    "a. Write a function called make_album() that builds a dictionary describing a music album \n",
    "The function should take in an artist name and an album title, and it should return a dictionary containing these two pieces of information. \n",
    "Use the function to make three dictionaries representing different albums Print each return value to show that the dictionaries are storing the album information correctly.\n",
    "\n",
    "b. Add an optional parameter  to make_album() that allows you to store the number of tracks on an album If the calling line includes a value for the number of tracks, add that value to the album’s dictionary Make at least one new function call that includes the number of tracks on an album.\n"
   ]
  },
  {
   "cell_type": "code",
   "execution_count": null,
   "metadata": {},
   "outputs": [],
   "source": []
  },
  {
   "cell_type": "markdown",
   "metadata": {},
   "source": [
    "Write a python function that, using a DNA sequence read from file, answers the following questions:\n",
    "1. Shows that the DNA string contains only four letters.\n",
    "2. In the DNA string there are regions that have a repeating letter. What is the letter and length of the longest repeating region?\n",
    "3. How many ’ATG’s are in the DNA string?\n",
    "\n",
    "NB: Use the file `coding_seq.fa`. Bonus points if the script works for a multisequence fasta file."
   ]
  },
  {
   "cell_type": "code",
   "execution_count": null,
   "metadata": {},
   "outputs": [],
   "source": [
    "dna='AGGGTTTCTCTGTGTAGCCCTGGCTGTCCTGGAACTCACTCTGTAGACCAGGCTGGCCTTGAACTCAGAAATCTGCCGGCCTCTGCCTCCCAAGTGCTGGGATTAAAGGTGTGTGCCACCACAGCTCAGGGTTCTTTTTTATCATTAAAATAATTTATTACTTTTTAGTTCATGTACATTGGTGTTTCATCTGTGTGTGTCTGTATGAAGGCTTTGGATCCCCTGGAGTTACAGACAGTTATTAGCTGCCATGTGGGTGCTGGGAATTGAACCCAGATCCTCTGGAAGAGCAGCCAGTGCTCTTAACTGCTGAGCTATTTCTCTCGCCCTGGCAGCTACTTTTCTATAGATTATTCTAATTATTTTATACAGATGAACTACAGGCTGGGGATGGGGAGATGGCTCACCAGGTGAGAGCCTTTGCCATGCAATGCCCAGAACCCAGGCTGGAAGGGAAGACCTGACCTCTACAGTCAGGCTGCAGCACCCCTGCCCCATCATGCACATACACACATAAATAAAATAAAACCCAAATGGACTCATACAGTATTTGCCTTTGTGACTAGCTTATTTTATTGAGCAATTTCACCCATAGCATTTCAAATAGAACAGCTTCAAGTGTACAGCAAAATTAAATAGATGGTACAAGGGTTTCCTAAATGTCTCCTGCCCTTGATATATTGCTTACCCCTCTCTTAAATGTTTCACTTCCTAAATAATACCTATGTGAGGTAATGCATATTTAATTGGCTAGATTTTATCATTTATGATGTGTATATAATTTTCAAATAGCATGCTGTATATGATAAATAGTTTTATCTCTCTATTTGAAATACAAATTAAACTTTACAAAGACTTCACAGCGTCTCCTGTTTATTGCAGGGGATATGTTCACTGGACTTCAGCAGACACCTAAGACTGGATAGTAGTAACCTAAGCCACAGTCTAGTCGCTCACTGTGGCCATAACATTTTAGCTACTTCCCTCCACCTTCATGTAGCTCCTGTGCATGTTTTCGTTTATACCTTAATATTTCACTTTTAGGAGGCATTGATAGAAGTGAAACTACATCTGATTCCAAATGCTACTTGTTCATTGTTGATACATAAGAAAGCATTTATTTATTTATGTATCTACCACATCCTACTTGTTGTTCAATCCAGGAGTCTTTGGTTGATCACCTTTATATGTAGACAGTCATGCCATGCAAAAACAGTTGTGTTTTCCTTCTCAGAGGCCCCTCTCCTGCTTTATCTTCCTCTTTGCTCCGCCCTCTCTCTCTTGCCCTCCCTTACCACTGTTGCCTCCTTTCCTTTCCTTTTTTCCTTTTCCTTTTTCTTGTGGTTTTCCGAGACAGGGTTTCTCCGTATAACCCTGACTGTCCTGGAACTCTCTGCCTCCCGAGTGCTGGGATTAAAGGCGTGCACCACCACCGCCCGGGTGTCTCCTTTTCTTTTATTGTTCTTTTCTTTGTTCTTTTACTACATAAACTGAGTTCCAGTATAATGTTGACAATAGAAGACATCCTTTTCTTGCTCCTGATTTTAATGGGAAAGGTCGAATGGTATGTGGTTCATGTAGACCACATTTTGTTTCCCTCTCACCCATTGATGGACACTTGGGTAGCTTCCATTTTTGGCTGTTGTGAATAATGCTGCTATGAACATGGGTGTGCACAGAGCTCTCTGAGACGCTGCTTTCAGTCCTTCTGGCAGTAGATCTTCATGGAGGAGCACGGAGTGACCCAAACTGAACACATGGCTACCATAGAAGCCCATGCAGTGGCCCAGCAAGTCCAGCAGGTCCATGTAGCCACGTACACTGAGCACAGTATGCTAAGTGCTGATGAAGACTCCCCTTCCTCCCCCGAGGACACTTCTTATGATGACTCGGACATCCTCAACTCCACGGCAGCTGATGAGGTAACTGCCCATCTGGCTGCTGCAGGTCCTGTGGGAATGGCCGCTGCTGCTGCTGTGGCAACAGGGAAGAAACGGAAACGGCCTCATGTGTTTGAGTCTAATCCATCTATCCGAAAGAGACAGCAGACACGTTTGCTTCGGAAACTCAGAGCCACGTTGGATGAGTACACGACGCGAGTGGGACAGCAAGCGATTGTACTCTGCATCTCACCCTCCAAACCCAACCCTGTCTTCAAGGTGTTTGGCGCAGCACCTTTGGAGAATGTGGTGCGAAAGTACAAGAGCATGATCCTGGAAGACCTCGAGTCTGCTCTGGCAGAACACGCCCCTGCGCCACAGGAGGTTAATTCAGAGCTGCCGCCTCTCACCATCGATGGGATTCCAGTCTCTGTGGACAAAATGACCCAGGCTCAGCTTCGGGCATTTATCCCAGAGATGCTCAAGTATTCCACAGGTCGGGGGAAACCAGGCTGGGGGAAAGAAAGCTGCAAGCCTATCTGGTGGCCAGAAGATATCCCATGGGCCAATGTCCGCAGTGATGTCCGCACAGAAGAGCAAAAACAAAGGGTTTCATGGACCCAGGCATTACGGACCATAGTTAAAAATTGCTATAAGCAACATGGGCGGGAGGATCTTTTATATGCTTTTGAAGATCAGCAAACACAAACTCAGGCCACCACCACACACAGTATAGCTCATCTCGTACCATCACAGACCGTAGTACAGACCTTCAGCAACCCTGATGGCACCGTGTCGCTCATCCAGGTTGGTACAGGGGCAACAGTAGCCACATTGGCTGATGCTTCAGAACTGCCAACCACAGTCACTGTTGCCCAAGTGAATTACTCTGCTGTGGCTGATGGAGAGGTGGAACAAAACTGGGCCACGTTACAGGGCGGTGAAATGACCATCCAGACGACGCAAGCATCAGAGGCCACCCAGGCGGTAGCATCACTGGCAGAAGCCGCAGTGGCAGCTTCTCAGGAGATGCAGCAGGGAGCCACTGTCACCATGGCCCTCAACAGTGAAGCTGCCGCCCATGCTGTCGCCACTCTGGCGGAAGCCACCTTACAAGGTGGGGGACAGATAGTCCTGTCTGGGGAAACCGCAGCAGCCGTCGGAGCACTTACTGGAGTCCAAGATGCTAATGGCCTGGTCCAGATCCCTGTGAGCATGTACCAGACTGTGGTAACCAGCCTCGCCCAGGGCAACGGGCCGGTGCAGGTGGCCATGGCCCCAGTGACCACCAGGATATCGGACAGCGCAGTCACCATGGATGGCCAGGCTGTGGAGGTGGTGACCTTGGAACAGTAGCATGGAGCTCTATCATGGCAGCGTTTTCTAGTCTACTGCAGAATTTTTTACATGTTTGCAGAGGTGCAATCAAATGGAATTAAGTCTCTCGACTTGGAAAGAAAGTTTTGGTAACCTTTTTTTAAGAAGGAAGAAAGGCAGCAGATTTTGGAATCACACTTTTTTAAAGCACCACTCTGGGATCTGGTGGAATGAACGCCACCGATTTCACTGTCCCAAAAAGCCAAATTGTGGCCAGACTTCTTTGTGCAGAAATGTGTGTATACTTACGTGTGTGTACGTGTGAGTGTGAATATATGTATATGTGTACATATGGACATACACATTTACATATATGTATAAAGTATATATGTACATACATACATATGTATGAAACCTGCATGGAATTACCTGTATGAAATCAAGGTGAACTGTGGGAACAAGAACCCACCCAGATTCGTGGGTGGTAGGGTACATGACCAAACACAGTCACCTGGTTTTCGTTCATACCAGGGTCATGCATTGAGCTACTGACAGACTCAGGCGGAGGTGACCACGTCCTTCACCAAAGCTGCCTCCCAGTGGCCGCCTAGACCTCTGCTAGATTCACCGAAGGAAGGAAGATCCAGGACACAGCGTGGTCCAGAGAGTGCTTGTGAAGTCCAGGGACAGAGAGTGCGTGCGCACATGTGCGCTTTGCCAGCAGAGACACACGGCAGCTGGCCCAGGTGCTGACCTTGCCACAGGCAGGTAAACGCCCTGCAGGCTCCTGGCAGGGGCAAGAAATCGTTCCTCAGCCTCCATCTTCTCCCTTCCCAGGAACCCTCAGTCTCACGACTATTCAAGAGTTGCTTGGTTGTAAGGTCAGTCCTGTTACAAACTGAAGGTGACAGAAGTGTTAAGGGTCTGAGGAGTGTTCATGGAGCAGGCGGGTGTAAGTGCAGGGTGTGTGTGTGTGTGTGTGTGTGTGTGTATGAGTAATGGAGAAAATGGGAAGATTATAGGAGAGCAAAATAGGAAGGAGGGAGAAAACTCTTCATAAATCAGGGTGCGCCGTGGGAACCGTGTTCTCCAGCTGTCTGCAGCTGTATTTCAGCAGAGGAGACTGCCTCACACAGGACCTCTGCGCAAAGGCTGGCCGTCACAGATGTGTCAGAAGACTCTGTGAGGACTTTTCCCAGGCACATCCTGGCGGCACAGGCCTGGGACAGCTTTCCTGCTCACAGTGTGGCTTGCACTGAGCAGTCATTGTCACTGTGAGCTTCTGTGCTTTCCAGCCACAAGCCCTGAGTCTCCCGTGGCTCATTCATCTGATGTCTTGACAAGCCAAATCTCCACTCCTGGCGTGCAGGGACTCTTCCTCCTTCCTGCCAGCCCTCTCCCGTGCGTGATAGTGTATTTAATGTGGTGTTTTTGGTTTTTTGTTTTTTAATGAGACATTAAAAGATTCTTCATGTCTTGCTCAGCCTTTGAGAAAAGTTTCCAATTCTTATATTTGCTTGTTTTATATAAAACTATTCAATGTTCTTTGTATGTTCTTTTCTGTATGTGATAAGGGAGGGGTGGGAAATTTGCATATCAATGTCCTGGTTCTACAATTGGTTACTTTTTTTTTTTTTTTAAACTGTGAAGCTGTCCAGGGGCTTTAAGGCCCGTGTTCCTTTGTGGTGAAATAAGCCTCCCGATAGTTTGAGAAATTGCCAAGAAGATAAAAGCAAGATCCCAGCAGCAGAGCATGGAATCTGTGTTGTTCTCCATTCTGTCTAAACTGCCTCATTCAATAAATAGTTTAATGTGGCGAC'"
   ]
  },
  {
   "cell_type": "markdown",
   "metadata": {},
   "source": [
    "Write a function that takes two arguments – a protein sequence and an amino acid residue code – and returns the percentage of the protein that the amino acid makes up. Use the following assertions to test your function.\n",
    "\n",
    "```assert my_function(\"MSRSLLLRFLLFLLLLPPLP\", \"M\") == 5\n",
    "assert my_function(\"MSRSLLLRFLLFLLLLPPLP\", \"r\") == 10\n",
    "assert my_function(\"MSRSLLLRFLLFLLLLPPLP\", \"L\") == 50\n",
    "assert my_function(\"MSRSLLLRFLLFLLLLPPLP\", \"Y\") == 0```"
   ]
  },
  {
   "cell_type": "code",
   "execution_count": null,
   "metadata": {},
   "outputs": [],
   "source": []
  }
 ],
 "metadata": {
  "kernelspec": {
   "display_name": ".venv",
   "language": "python",
   "name": "python3"
  },
  "language_info": {
   "codemirror_mode": {
    "name": "ipython",
    "version": 3
   },
   "file_extension": ".py",
   "mimetype": "text/x-python",
   "name": "python",
   "nbconvert_exporter": "python",
   "pygments_lexer": "ipython3",
   "version": "3.12.3"
  }
 },
 "nbformat": 4,
 "nbformat_minor": 4
}
